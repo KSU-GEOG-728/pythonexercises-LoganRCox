{
 "cells": [
  {
   "cell_type": "markdown",
   "metadata": {},
   "source": [
    "## Python Exercises - Session 3: Control Flow & Strings\n",
    "The exercises below are organized to match [A Whirlwind Tour of Python (VanderPlas)](https://jakevdp.github.io/WhirlwindTourOfPython/). Specific pages are referenced in the various sections. These are designed to run using Python 3.6.\n",
    "\n",
    "Follow the guidelines below. Where necessary replace the ellipses (`...`) with the appropriate code in the code blocks, the run the code by pressing ctrl-enter. Be sure to save your document before closing. "
   ]
  },
  {
   "cell_type": "markdown",
   "metadata": {},
   "source": [
    "---\n",
    "### 3.1 Conditional Statements: `if`, `elif`, and `else` ([p 38](http://nbviewer.jupyter.org/github/env859/WhirlwindTourOfPython/blob/master/07-Control-Flow-Statements.ipynb))\n",
    "##### What to know\n",
    "* Using the `if` statement to control what code gets run\n",
    "  * Use of the colon, Boolean condition, and indentation to control execution\n",
    "  * How `elif` can be used to add more conditional code blocks\n",
    "  * How `else` can be used to run code when all the `if`'s and `elif`'s are not met. "
   ]
  },
  {
   "cell_type": "markdown",
   "metadata": {},
   "source": [
    "#### ► 3.1.1 Modify the code below so it works to print `too slow`"
   ]
  },
  {
   "cell_type": "code",
   "execution_count": 3,
   "metadata": {},
   "outputs": [],
   "source": [
    "avg_speed = 20\n",
    "if avg_speed < 15:\n",
    "    print(\"too slow\")"
   ]
  },
  {
   "cell_type": "markdown",
   "metadata": {},
   "source": [
    "#### ► 3.1.2 Write a series of `if`/`elif`/`else` statements that evaluates the value of `elev_feet` such that:\n",
    "* If `elev_feet` is less than 400, it prints \"too low\"\n",
    "* If `elev_feet` is greater than 500, it prints \"too high\"\n",
    "* If `elev_feet ` equal 450, it print \"got it!\"\n",
    "* If none of the above conditions are met, it prints \"close enough\"\n",
    "* Print \"Play again?\" after evaluating the \"elev_feet\" value"
   ]
  },
  {
   "cell_type": "code",
   "execution_count": 5,
   "metadata": {},
   "outputs": [
    {
     "name": "stdout",
     "output_type": "stream",
     "text": [
      "close enough\n",
      "Play again?\n"
     ]
    }
   ],
   "source": [
    "elev_feet = 475\n",
    "if elev_feet < 400:\n",
    "    print('too low')\n",
    "elif elev_feet > 500:\n",
    "    print('too high')\n",
    "elif elev_feet == 450:\n",
    "    print('got it!')\n",
    "else:\n",
    "    print('close enough')\n",
    "print('Play again?')"
   ]
  },
  {
   "cell_type": "markdown",
   "metadata": {},
   "source": [
    "---\n",
    "### 3.2 `for` loops ([p 38](http://nbviewer.jupyter.org/github/env859/WhirlwindTourOfPython/blob/master/07-Control-Flow-Statements.ipynb))"
   ]
  },
  {
   "cell_type": "markdown",
   "metadata": {},
   "source": [
    "**3.2.1** Create a for loop that iterates through the items in the list of states and prints them."
   ]
  },
  {
   "cell_type": "code",
   "execution_count": 7,
   "metadata": {},
   "outputs": [
    {
     "name": "stdout",
     "output_type": "stream",
     "text": [
      "Maine\n",
      "Ohio\n",
      "Kansas\n",
      "Utah\n",
      "Alaska\n",
      "Nevada\n"
     ]
    }
   ],
   "source": [
    "states = ['Maine','Ohio','Kansas','Utah','Alaska','Nevada']\n",
    "for state in states:\n",
    "    print(state)"
   ]
  },
  {
   "cell_type": "markdown",
   "metadata": {},
   "source": [
    "**3.2.2** Combine a `for` loop and the `range` function to print powers of 2 up to the 8th power of 2 (256)"
   ]
  },
  {
   "cell_type": "code",
   "execution_count": 9,
   "metadata": {},
   "outputs": [
    {
     "name": "stdout",
     "output_type": "stream",
     "text": [
      "0 1\n",
      "1 2\n",
      "2 4\n",
      "3 8\n",
      "4 16\n",
      "5 32\n",
      "6 64\n",
      "7 128\n",
      "8 256\n"
     ]
    }
   ],
   "source": [
    "for x in range(9):\n",
    "    print(x, 2**x)    "
   ]
  },
  {
   "cell_type": "markdown",
   "metadata": {},
   "source": [
    "**3.2.3** *The first line in the code below reads in the contents of the MHK_KS_Weather.csv file and stores each line as item in the list `lineList`.* Iterate through the lines in the `lineList` list and print the <u>length</u> of each line."
   ]
  },
  {
   "cell_type": "code",
   "execution_count": 10,
   "metadata": {},
   "outputs": [
    {
     "name": "stdout",
     "output_type": "stream",
     "text": [
      "Day,Month,Day,Year,DOY,AirTempMax(F),AirTempMin(F),RelHumidAvg(%),Precip(In),WindAvg(mph),WindMax(mph),Solar(ly)\n",
      "\n",
      "6/1/2023,6,1,2023,152,81.5,65.2,84.7,0.45,3.2,16.3,353\n",
      "\n",
      "6/2/2023,6,2,2023,153,85.6,65.1,81.4,0,3.5,23.3,461.1\n",
      "\n",
      "6/3/2023,6,3,2023,154,85.5,62.2,84.6,0.1,3.1,19.1,403.3\n",
      "\n",
      "6/4/2023,6,4,2023,155,87.2,59.2,67,0.01,2.2,12,6\n",
      "\n",
      "6/5/2023,6,5,2023,156,87.9,61.1,72.3,0.06,2.4,21.3,500.5\n",
      "\n",
      "6/6/2023,6,6,2023,157,87,57.7,66.4,0,1.9,12.1,664.4\n",
      "\n",
      "6/7/2023,6,7,2023,158,90,60.8,59.5,0,2.2,12.3,694.7\n",
      "\n",
      "6/8/2023,6,8,2023,159,88.3,64.1,69.6,0,2.5,10.9,490.2\n",
      "\n",
      "6/9/2023,6,9,2023,160,84.7,61.9,70.3,1.36,4.1,28.5,638.7\n",
      "\n",
      "6/10/2023,6,10,2023,161,77.3,63.5,84.6,0.21,2.9,13.3,311.5\n",
      "\n",
      "6/11/2023,6,11,2023,162,75,56.8,78.6,0,6.7,20.1,382.6\n",
      "\n",
      "6/12/2023,6,12,2023,163,74.6,52.5,66.6,0.01,2.5,10.8,611\n",
      "\n",
      "6/13/2023,6,13,2023,164,81.9,49.4,64.3,0,1.9,10.1,613.4\n",
      "\n",
      "6/14/2023,6,14,2023,165,83.9,59.1,62.3,0,3.2,15.2,691.6\n",
      "\n",
      "6/15/2023,6,15,2023,166,86.7,59.5,60.4,0,3.2,12.5,619.6\n",
      "\n",
      "6/16/2023,6,16,2023,167,89.3,64.5,58.5,0,2.4,10.4,673\n",
      "\n",
      "6/17/2023,6,17,2023,168,85.4,63.4,67.2,0,4.1,20.9,580\n",
      "\n",
      "6/18/2023,6,18,2023,169,85.7,62.9,66.5,0.08,3.6,16.3,624.6\n",
      "\n",
      "6/19/2023,6,19,2023,170,91,59.9,59,0,3.7,16.8,697.1\n",
      "\n",
      "6/20/2023,6,20,2023,171,88.9,65.4,61.1,0,4.4,18.3,691.9\n",
      "\n",
      "6/21/2023,6,21,2023,172,86.8,67.9,63.6,0,3.9,16,508.6\n",
      "\n",
      "6/22/2023,6,22,2023,173,89,64,64.1,0,2.8,11.2,643\n",
      "\n",
      "6/23/2023,6,23,2023,174,91.1,71.3,56,0,4.8,16.8,622.9\n",
      "\n",
      "6/24/2023,6,24,2023,175,95.9,65.1,60,0.01,5.1,18.7,549.9\n",
      "\n",
      "6/25/2023,6,25,2023,176,88.1,63.5,42.7,0,7.3,21.2,713.1\n",
      "\n",
      "6/26/2023,6,26,2023,177,89.3,57.6,48.4,0,3.4,14.8,712.6\n",
      "\n",
      "6/27/2023,6,27,2023,178,87,61.5,57.7,0.01,4.4,17.6,516.7\n",
      "\n",
      "6/28/2023,6,28,2023,179,99.3,70.3,56.4,0,3.9,15.2,638.9\n",
      "\n",
      "6/29/2023,6,29,2023,180,94.3,72.6,61.3,0,4.9,28.1,586.4\n",
      "\n",
      "6/30/2023,6,30,2023,181,94,68.4,72,0.96,4.7,23.7,566.3\n",
      "\n",
      "7/1/2023,7,1,2023,182,85.9,66,79.2,0.07,5.2,17.7,525.5\n",
      "\n",
      "7/2/2023,7,2,2023,183,87.6,63.6,69.2,0,2.7,12.1,587.4\n",
      "\n",
      "7/3/2023,7,3,2023,184,92.1,62.7,63.2,0,2.8,12.8,694.5\n",
      "\n",
      "7/4/2023,7,4,2023,185,98,65.5,60.8,1.41,5.3,38.3,670.6\n",
      "\n",
      "7/5/2023,7,5,2023,186,79.7,66.2,83.5,0.06,4.3,15.8,404.1\n",
      "\n",
      "7/6/2023,7,6,2023,187,79,62.5,72.5,0,2.9,13.1,473.3\n",
      "\n",
      "7/7/2023,7,7,2023,188,82.2,63.4,77.3,0,3,11.8,426.5\n",
      "\n",
      "7/8/2023,7,8,2023,189,76.4,63.5,75.4,0,4.8,14.6,496.7\n",
      "\n",
      "7/9/2023,7,9,2023,190,83.4,58,69.1,0,1.6,10,616\n",
      "\n",
      "7/10/2023,7,10,2023,191,89.1,59.2,62.8,0,4.5,16.1,683.8\n",
      "\n",
      "7/11/2023,7,11,2023,192,93.4,69.3,61.8,0,5.1,16.1,643\n",
      "\n",
      "7/12/2023,7,12,2023,193,90.4,73,75.1,0,5.1,19.7,494\n",
      "\n",
      "7/13/2023,7,13,2023,194,91.4,70.8,72.5,0,2.5,12,542.2\n",
      "\n",
      "7/14/2023,7,14,2023,195,90.1,66.5,86.6,1.27,3.7,33.7,291.6\n",
      "\n",
      "7/15/2023,7,15,2023,196,89.4,64.4,74.7,0.01,2.5,10.5,609.8\n",
      "\n",
      "7/16/2023,7,16,2023,197,86.6,69.3,79.8,0.01,3.1,19.3,350.1\n",
      "\n",
      "7/17/2023,7,17,2023,198,88.7,66.2,82.4,0,3.3,17.4,594.3\n",
      "\n",
      "7/18/2023,7,18,2023,199,87.3,68.9,82.3,0,5.5,15.4,465.4\n",
      "\n",
      "7/19/2023,7,19,2023,200,81.3,70.1,89.7,0,3.2,14.3,194.5\n",
      "\n",
      "7/20/2023,7,20,2023,201,86.7,69.2,71.8,0.01,4.1,16.4,604.5\n",
      "\n",
      "7/21/2023,7,21,2023,202,82.4,63.8,70.6,0,2.6,13,536.3\n",
      "\n",
      "7/22/2023,7,22,2023,203,86.9,61.7,72,0,2.9,17.4,432\n",
      "\n",
      "7/23/2023,7,23,2023,204,94.4,62.9,64.9,0,2.6,14.1,646.5\n",
      "\n",
      "7/24/2023,7,24,2023,205,94.5,71.9,61.3,0,5.6,20.3,612.4\n",
      "\n",
      "7/25/2023,7,25,2023,206,104.4,75,51.1,0,5,18.3,586.4\n",
      "\n",
      "7/26/2023,7,26,2023,207,103.8,79.6,44.2,0,4.6,15.6,639.9\n",
      "\n",
      "7/27/2023,7,27,2023,208,96.8,76.5,52.7,0,5.7,16.9,435.1\n",
      "\n",
      "7/28/2023,7,28,2023,209,104.9,71.8,52.8,0.35,6.2,39.8,598.6\n",
      "\n",
      "7/29/2023,7,29,2023,210,90,69.2,70.4,0,3.7,30.4,445.1\n",
      "\n",
      "7/30/2023,7,30,2023,211,94,67.9,75.6,0.02,4.2,16.2,549.6\n",
      "\n",
      "7/31/2023,7,31,2023,212,90,68.8,77.2,0,5,15.6,429.6\n",
      "\n",
      "8/1/2023,8,1,2023,213,102,70.6,72.9,0,2.5,12.3,544.9\n",
      "\n",
      "8/2/2023,8,2,2023,214,92.4,77.9,63.3,0,3.6,15.9,375.7\n",
      "\n",
      "8/3/2023,8,3,2023,215,85.5,71.9,86.1,0.38,4.3,13.8,382.6\n",
      "\n",
      "8/4/2023,8,4,2023,216,88.2,69.6,81.3,0.65,3.4,17.9,566.3\n",
      "\n",
      "8/5/2023,8,5,2023,217,90.9,68.5,71.6,0.06,3.1,29.2,574.2\n",
      "\n",
      "8/6/2023,8,6,2023,218,80.7,66.1,75.5,0.03,7.4,25.1,469.9\n",
      "\n",
      "8/7/2023,8,7,2023,219,81.8,62.9,73.4,0,3.7,15.4,482.3\n",
      "\n",
      "8/8/2023,8,8,2023,220,91.2,62.4,65.1,0,2,10,613.4\n",
      "\n",
      "8/9/2023,8,9,2023,221,85.6,69.1,76.3,0.27,2.8,14.4,550.8\n",
      "\n",
      "8/10/2023,8,10,2023,222,92,65.5,66.5,0,3.9,19.1,597.4\n",
      "\n",
      "8/11/2023,8,11,2023,223,100.8,67,60.4,0,4.4,19.3,575.2\n",
      "\n",
      "8/12/2023,8,12,2023,224,89,74.2,72.1,0,4.4,15.8,432.5\n",
      "\n",
      "8/13/2023,8,13,2023,225,85.9,68.5,86.6,0.47,4,21.5,279\n",
      "\n",
      "8/14/2023,8,14,2023,226,78.8,60.8,66.9,0,6.9,20.1,600.7\n",
      "\n",
      "8/15/2023,8,15,2023,227,81.8,57.7,67.1,0,2.7,12.4,629.6\n",
      "\n",
      "8/16/2023,8,16,2023,228,92.4,58.7,58,0,6.1,19.3,613.6\n",
      "\n",
      "8/17/2023,8,17,2023,229,85.8,59.4,57.1,0,4.8,16.6,576.4\n",
      "\n",
      "8/18/2023,8,18,2023,230,90.9,54.6,60.5,0,4.6,16.6,585.7\n",
      "\n",
      "8/19/2023,8,19,2023,231,111.4,74.5,44.3,0,5.6,22.6,599.3\n",
      "\n",
      "8/20/2023,8,20,2023,232,100.3,71.9,60.6,0,2.8,11.5,566.3\n",
      "\n"
     ]
    }
   ],
   "source": [
    "lineList = open('MHK_KS_Weather.csv','r').readlines()\n",
    "for line in lineList:\n",
    "    print(line)"
   ]
  },
  {
   "cell_type": "markdown",
   "metadata": {},
   "source": [
    "**3.2.4** Extract the 10th line from the lineList to a variable called `line10`. Then use the string `split()` method to break this line up into a new list called `lineData`. *(Note that this is a `csv` file, so values are separated by a comma.)* Finally print each of these items, one at a time."
   ]
  },
  {
   "cell_type": "code",
   "execution_count": 14,
   "metadata": {},
   "outputs": [
    {
     "name": "stdout",
     "output_type": "stream",
     "text": [
      "6/9/2023\n",
      "6\n",
      "9\n",
      "2023\n",
      "160\n",
      "84.7\n",
      "61.9\n",
      "70.3\n",
      "1.36\n",
      "4.1\n",
      "28.5\n",
      "638.7\n",
      "\n"
     ]
    }
   ],
   "source": [
    "line10 = lineList[9]\n",
    "lineData = line10.split(\",\")\n",
    "for item in lineData:\n",
    "    print(item)"
   ]
  },
  {
   "cell_type": "markdown",
   "metadata": {},
   "source": [
    "---\n",
    "### 3.3 Iterator and the `range()` function ([p52](https://nbviewer.jupyter.org/github/env859/WhirlwindTourOfPython/blob/master/10-Iterators.ipynb#Iterators))"
   ]
  },
  {
   "cell_type": "markdown",
   "metadata": {},
   "source": [
    "**3.3.1** Print the phrase \"Python is fun!\" 5 times using the `range()` function and a `for` loop."
   ]
  },
  {
   "cell_type": "code",
   "execution_count": 15,
   "metadata": {},
   "outputs": [
    {
     "name": "stdout",
     "output_type": "stream",
     "text": [
      "Python is fun!\n",
      "Python is fun!\n",
      "Python is fun!\n",
      "Python is fun!\n",
      "Python is fun!\n",
      "Python is fun!\n"
     ]
    }
   ],
   "source": [
    "for i in range(6):\n",
    "    print(\"Python is fun!\")"
   ]
  },
  {
   "cell_type": "markdown",
   "metadata": {},
   "source": [
    "**3.3.2** Using the `range()` function in a `for` loop, print the every number between 480 and 490."
   ]
  },
  {
   "cell_type": "code",
   "execution_count": 18,
   "metadata": {},
   "outputs": [
    {
     "name": "stdout",
     "output_type": "stream",
     "text": [
      "480, 481, 482, 483, 484, 485, 486, 487, 488, 489, "
     ]
    }
   ],
   "source": [
    "for i in range(480, 490):\n",
    "    print (i, end=', ')"
   ]
  },
  {
   "cell_type": "markdown",
   "metadata": {},
   "source": [
    "**3.3.3** Using the `range()` function in a `for` loop, print every *other* number between 480 and 490. "
   ]
  },
  {
   "cell_type": "code",
   "execution_count": 19,
   "metadata": {},
   "outputs": [
    {
     "name": "stdout",
     "output_type": "stream",
     "text": [
      "480, 482, 484, 486, 488, "
     ]
    }
   ],
   "source": [
    "for i in range(480, 490, 2):\n",
    "    print (i, end=', ')"
   ]
  },
  {
   "cell_type": "markdown",
   "metadata": {},
   "source": [
    "---\n",
    "### 3.4 `while` loops ([p 39](http://nbviewer.jupyter.org/github/env859/WhirlwindTourOfPython/blob/master/07-Control-Flow-Statements.ipynb))"
   ]
  },
  {
   "cell_type": "markdown",
   "metadata": {},
   "source": [
    "**3.4.1** Write a `while` loop that prints each year, starting at 2017, stops after printing *2020*"
   ]
  },
  {
   "cell_type": "code",
   "execution_count": 21,
   "metadata": {},
   "outputs": [
    {
     "name": "stdout",
     "output_type": "stream",
     "text": [
      "2017\n",
      "2018\n",
      "2019\n",
      "2020\n"
     ]
    }
   ],
   "source": [
    "year = 2017\n",
    "while year < 2021:\n",
    "    print(year)\n",
    "    year += 1"
   ]
  },
  {
   "cell_type": "markdown",
   "metadata": {},
   "source": [
    "**3.4.2** The Python `input` function prompts the user to enter a value. Use a while loop to continue asking the user to \"pick a number between 1 and 4\" until the user guesses correctly."
   ]
  },
  {
   "cell_type": "code",
   "execution_count": 24,
   "metadata": {},
   "outputs": [
    {
     "name": "stdout",
     "output_type": "stream",
     "text": [
      "Guess my number, between 1 and 4: 3\n",
      "Nope, guess again: 4\n",
      "Nope, guess again: 1\n",
      "Got it!, It was 1\n"
     ]
    }
   ],
   "source": [
    "guess = input(\"Guess my number, between 1 and 4: \")\n",
    "actual_number = \"1\"\n",
    "while guess != actual_number:\n",
    "    guess = input(\"Nope, guess again: \")\n",
    "print (\"Got it!, It was \" + actual_number)"
   ]
  },
  {
   "cell_type": "markdown",
   "metadata": {},
   "source": [
    "# 3.5 `break` and `continue`"
   ]
  },
  {
   "cell_type": "code",
   "execution_count": 27,
   "metadata": {},
   "outputs": [],
   "source": [
    "#Run this to generate a dictionary of states (keys) and their capitol (values)\n",
    "state_capitals={\"Washington\":\"Olympia\",\"Oregon\":\"Salem\",\n",
    "                \"California\":\"Sacramento\",\"Ohio\":\"Columbus\",\n",
    "                \"Nebraska\":\"Lincoln\",\"Colorado\":\"Denver\",\n",
    "                \"Michigan\":\"Lansing\",\"Massachusetts\":\"Boston\",\n",
    "                \"Florida\":\"Tallahassee\",\"Texas\":\"Austin\",\n",
    "                \"Oklahoma\":\"Oklahoma City\",\"Hawaii\":\"Honolulu\",\n",
    "                \"Alaska\":\"Juneau\",\"Utah\":\"Salt Lake City\",\n",
    "                \"New Mexico\":\"Santa Fe\",\"North Dakota\":\"Bismarck\",\n",
    "                \"South Dakota\":\"Pierre\",\"West Virginia\":\"Charleston\",\n",
    "                \"Virginia\":\"Richmond\",\"New Jersey\":\"Trenton\",\n",
    "                \"Minnesota\":\"Saint Paul\",\"Illinois\":\"Springfield\",\n",
    "                \"Indiana\":\"Indianapolis\",\"Kentucky\":\"Frankfort\",\n",
    "                \"Tennessee\":\"Nashville\",\"Georgia\":\"Atlanta\",\n",
    "                \"Alabama\":\"Montgomery\",\"Mississippi\":\"Jackson\",\n",
    "                \"North Carolina\":\"Raleigh\",\"South Carolina\":\"Columbia\",\n",
    "                \"Maine\":\"Augusta\",\"Vermont\":\"Montpelier\",\n",
    "                \"New Hampshire\":\"Concord\",\"Connecticut\":\"Hartford\",\n",
    "                \"Rhode Island\":\"Providence\",\"Wyoming\":\"Cheyenne\",\n",
    "                \"Montana\":\"Helena\",\"Kansas\":\"Topeka\",\n",
    "                \"Iowa\":\"Des Moines\",\"Pennsylvania\":\"Harrisburg\",\n",
    "                \"Maryland\":\"Annapolis\",\"Missouri\":\"Jefferson City\",\n",
    "                \"Arizona\":\"Phoenix\",\"Nevada\":\"Carson City\",\n",
    "                \"New York\":\"Albany\",\"Wisconsin\":\"Madison\",\n",
    "                \"Delaware\":\"Dover\",\"Idaho\":\"Boise\",\n",
    "                \"Arkansas\":\"Little Rock\",\"Louisiana\":\"Baton Rouge\"}"
   ]
  },
  {
   "cell_type": "markdown",
   "metadata": {},
   "source": [
    "**3.5.1** Use a `for` loop and a `break` statement to iterate through states (i.e., the keys) in the `state_capitals` dictionary, printing the name of the state's capitol, stopping when 'Texas' is reached (and not printing Texas' capitol). "
   ]
  },
  {
   "cell_type": "code",
   "execution_count": 37,
   "metadata": {},
   "outputs": [
    {
     "name": "stdout",
     "output_type": "stream",
     "text": [
      "Olympia\n",
      "Salem\n",
      "Sacramento\n",
      "Columbus\n",
      "Lincoln\n",
      "Denver\n",
      "Lansing\n",
      "Boston\n",
      "Tallahassee\n"
     ]
    }
   ],
   "source": [
    "#Loop through the keys in the dict (i.e. states)\n",
    "#for … in state_capitals.keys(): \n",
    "#    #Use an if statement to determine if the current state is 'Texas'\n",
    "#    if …: \n",
    "#        #If so, stop iterating immediately\n",
    "#        …\n",
    "#    # Print the dictionary value corresponding with the state\n",
    "#    print(…)\n",
    "for state, capital in state_capitals.items():\n",
    "    if state == 'Texas':\n",
    "        break\n",
    "    else:\n",
    "        print(capital)\n",
    "    "
   ]
  },
  {
   "cell_type": "markdown",
   "metadata": {},
   "source": [
    "**3.5.2** Modify the `if` statment and swap the `break` statement with `continue` so that instead of stopping at Texas, the loop  **skips** printing the capital of any state ending with the letter `a`. "
   ]
  },
  {
   "cell_type": "code",
   "execution_count": 40,
   "metadata": {},
   "outputs": [
    {
     "name": "stdout",
     "output_type": "stream",
     "text": [
      "Salem\n",
      "Sacramento\n",
      "Columbus\n",
      "Lincoln\n",
      "Denver\n",
      "Lansing\n",
      "Boston\n",
      "Tallahassee\n",
      "Austin\n",
      "Oklahoma City\n",
      "Honolulu\n",
      "Juneau\n",
      "Salt Lake City\n",
      "Santa Fe\n",
      "Bismarck\n",
      "Pierre\n",
      "Charleston\n",
      "Richmond\n",
      "Trenton\n",
      "Saint Paul\n",
      "Springfield\n",
      "Indianapolis\n",
      "Frankfort\n",
      "Nashville\n",
      "Montgomery\n",
      "Jackson\n",
      "Raleigh\n",
      "Montpelier\n",
      "Concord\n",
      "Hartford\n",
      "Providence\n",
      "Cheyenne\n",
      "Des Moines\n",
      "Harrisburg\n",
      "Annapolis\n",
      "Jefferson City\n",
      "Phoenix\n",
      "Carson City\n",
      "Albany\n",
      "Madison\n",
      "Dover\n",
      "Boise\n",
      "Little Rock\n",
      "Baton Rouge\n"
     ]
    }
   ],
   "source": [
    "#Loop through the keys in the dict (i.e. states)\n",
    "for state in state_capitals.keys(): \n",
    "    #Get the capital associated from the current state key\n",
    "    capital = state_capitals[state]\n",
    "    #If the capital ends with 'a'...\n",
    "    if capital.endswith('a'):\n",
    "        continue\n",
    "        #...skip the remainder of the 'for loop' for this iteration \n",
    "        #   and move forward to the next item in the list \n",
    "    # Print the dictionary value corresponding with the state\n",
    "    print(capital)"
   ]
  },
  {
   "cell_type": "markdown",
   "metadata": {},
   "source": [
    "## 6. String Manipulation"
   ]
  },
  {
   "cell_type": "markdown",
   "metadata": {},
   "source": [
    "**3.6.1** Create a new variable called \"all_sports_lower\" that has the contents of the `all_sports` string, but using all lowercase letters."
   ]
  },
  {
   "cell_type": "code",
   "execution_count": 41,
   "metadata": {},
   "outputs": [
    {
     "name": "stdout",
     "output_type": "stream",
     "text": [
      "soccer, basketball, hockey, football\n"
     ]
    }
   ],
   "source": [
    "#Create the initial string\n",
    "all_sports = \"Soccer, BASKETBALL, Hockey, Football\"\n",
    "all_sports_lower = all_sports.lower()\n",
    "print(all_sports_lower)"
   ]
  },
  {
   "cell_type": "markdown",
   "metadata": {},
   "source": [
    "**3.6.2** Use the `split()` function to parse the string into a list variable named \"sports\". "
   ]
  },
  {
   "cell_type": "code",
   "execution_count": 42,
   "metadata": {},
   "outputs": [
    {
     "name": "stdout",
     "output_type": "stream",
     "text": [
      "['soccer,', 'basketball,', 'hockey,', 'football']\n"
     ]
    }
   ],
   "source": [
    "sports = all_sports_lower.split()\n",
    "print(sports)"
   ]
  },
  {
   "cell_type": "markdown",
   "metadata": {},
   "source": [
    "**3.6.3** Tweak the code below to print Euler's number ($e$) to 6 decimal places."
   ]
  },
  {
   "cell_type": "code",
   "execution_count": 45,
   "metadata": {},
   "outputs": [
    {
     "name": "stdout",
     "output_type": "stream",
     "text": [
      "2.718282\n"
     ]
    }
   ],
   "source": [
    "e = 2.71828182845904\n",
    "print(f\"{e:.6f}\")"
   ]
  },
  {
   "cell_type": "markdown",
   "metadata": {},
   "source": [
    "**3.6.4** Use the variables below to print out the address so it appears as:\n",
    "```\n",
    "222 Main St.\n",
    "Manhattan, KS 66502\n",
    "```\n",
    "    "
   ]
  },
  {
   "cell_type": "code",
   "execution_count": 52,
   "metadata": {},
   "outputs": [
    {
     "name": "stdout",
     "output_type": "stream",
     "text": [
      "222 Main St. \n",
      "Manhattan, KS 66502\n"
     ]
    }
   ],
   "source": [
    "house_number = 222\n",
    "street_name = \"Main St.\"\n",
    "city = \"Manhattan\"\n",
    "state = \"KS\"\n",
    "zip = 66502\n",
    "\n",
    "print(f\"{house_number} {street_name} \\n{city}, {state} {zip}\")"
   ]
  },
  {
   "cell_type": "code",
   "execution_count": null,
   "metadata": {},
   "outputs": [],
   "source": []
  }
 ],
 "metadata": {
  "kernelspec": {
   "display_name": "Python 3 (ipykernel)",
   "language": "python",
   "name": "python3"
  },
  "language_info": {
   "codemirror_mode": {
    "name": "ipython",
    "version": 3
   },
   "file_extension": ".py",
   "mimetype": "text/x-python",
   "name": "python",
   "nbconvert_exporter": "python",
   "pygments_lexer": "ipython3",
   "version": "3.9.16"
  }
 },
 "nbformat": 4,
 "nbformat_minor": 2
}
